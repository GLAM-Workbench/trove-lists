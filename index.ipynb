{
 "cells": [
  {
   "cell_type": "markdown",
   "id": "c519cab1",
   "metadata": {},
   "source": [
    "# Trove lists and tags\n",
    "\n",
    "Current version: [v1.0.0](https://github.com/GLAM-Workbench/trove-lists/releases/tag/v1.0.0)\n",
    "\n",
    "Jupyter notebooks to work with data from Trove's public lists and tags.\n",
    "\n",
    "## Notebook topics\n",
    "\n",
    "### Lists\n",
    "\n",
    "* [**Convert a Trove list into a CSV file**](Convert-a-Trove-list-into-a-CSV-file.ipynb) – extracts list data from the Trove API and saves the results as CSV files (with separate files for newspaper articles and other resources); optionally save OCRd test, PDFs, and images of any listed newspaper articles.\n",
    "* [**Convert a Trove list into a CollectionBuilder exhibition**](convert-list-to-cb-exhibition.ipynb) – converts Trove lists into a series of files that can be uploaded to a [CollectionBuilder-GH](https://github.com/CollectionBuilder/collectionbuilder-gh) repository to create an instant exhibition.\n",
    "* [**Harvest summary data from Trove lists**](Harvest-summary-data-from-lists.ipynb) – extract and analyse data from all public lists in Trove\n",
    "\n",
    "### Tags\n",
    "\n",
    "* [**Harvest public tags from Trove zones**](harvest-tags.ipynb) – assemble a dataset containing all public tags added to Trove\n",
    "* [**Analyse public tags added to Trove**](analyse_tags.ipynb) – explore ways of analysing and visualising the complete dataset of public tags added to Trove resources\n",
    "\n",
    "### Data files\n",
    "\n",
    "* [trove-lists-2020-09-22.csv](https://github.com/GLAM-Workbench/trove-lists/blob/master/data/trove-lists-2020-09-22.csv) (harvested 22 September 2020) – basic metadata about all public lists\n",
    "* [Trove public tags](https://doi.org/10.5281/zenodo.5094314) (Zenodo, zipped CSV, harvested 10 July 2021) – complete dataset of more than 8 million public tags\n",
    "* [trove_tag_counts_20210710.csv](https://github.com/GLAM-Workbench/trove-lists/blob/master/trove_tag_counts_20210710.csv) (harvested 10 July 2021) – counts of individual tags"
   ]
  },
  {
   "cell_type": "markdown",
   "id": "ab7f6b01",
   "metadata": {},
   "source": [
    "## Cite as\n",
    "\n",
    "See the GLAM Workbench or [Zenodo](https://doi.org/10.5281/zenodo.3521723) for up-to-date citation details.\n",
    "\n",
    "----\n",
    "\n",
    "This repository is part of the [GLAM Workbench](https://glam-workbench.github.io/).  \n",
    "If you think this project is worthwhile, you might like [to sponsor me on GitHub](https://github.com/sponsors/wragge?o=esb)."
   ]
  }
 ],
 "metadata": {
  "jupytext": {
   "cell_metadata_filter": "-all"
  },
  "kernelspec": {
   "display_name": "Python 3 (ipykernel)",
   "language": "python",
   "name": "python3"
  }
 },
 "nbformat": 4,
 "nbformat_minor": 5
}
