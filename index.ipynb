{
 "cells": [
  {
   "cell_type": "markdown",
   "id": "9e5a96a9",
   "metadata": {},
   "source": [
    "# trove-lists\n",
    "\n",
    "Trove lists and tags are created by Trove users to organise and describe resources. The details of public lists and tags are available through the Trove API. The notebooks in this repository demonstrate how to harvest and analyse list and tag data.\n",
    "\n",
    "For more information and documentation see the [Trove lists and tags](https://glam-workbench.net/trove-lists) section of the [GLAM Workbench](https://glam-workbench.net).\n",
    "\n",
    "## Notebooks\n",
    "- [Convert a Trove list into a CollectionBuilder exhibition](https://github.com/GLAM-Workbench/trove-lists/blob/None/convert-list-to-cb-exhibition.ipynb)\n",
    "- [Harvest public tags from Trove zones](https://github.com/GLAM-Workbench/trove-lists/blob/None/harvest-tags.ipynb)\n",
    "- [Convert a Trove list into a CSV file](https://github.com/GLAM-Workbench/trove-lists/blob/None/Convert-a-Trove-list-into-a-CSV-file.ipynb)\n",
    "- [Analyse public tags added to Trove](https://github.com/GLAM-Workbench/trove-lists/blob/None/analyse_tags.ipynb)\n",
    "- [Harvest summary data from Trove lists](https://github.com/GLAM-Workbench/trove-lists/blob/None/Harvest-summary-data-from-lists.ipynb)"
   ]
  },
  {
   "cell_type": "markdown",
   "id": "d0e24ecf",
   "metadata": {},
   "source": [
    "## Associated datasets\n",
    "- [trove-lists-metadata](https://github.com/GLAM-Workbench/trove-lists-metadata/)\n",
    "- [Trove public tags](https://zenodo.org/doi/10.5281/zenodo.5094313)\n",
    "- [Trove tag counts](https://zenodo.org/doi/10.5281/zenodo.7563922)\n"
   ]
  },
  {
   "cell_type": "markdown",
   "id": "72f917ef",
   "metadata": {},
   "source": [
    "----\n",
    "Created by [Tim Sherratt](https://timsherratt.au) for the [GLAM Workbench](https://glam-workbench.net)"
   ]
  }
 ],
 "metadata": {
  "jupytext": {
   "cell_metadata_filter": "-all"
  },
  "kernelspec": {
   "display_name": "Python 3 (ipykernel)",
   "language": "python",
   "name": "python3"
  }
 },
 "nbformat": 4,
 "nbformat_minor": 5
}
